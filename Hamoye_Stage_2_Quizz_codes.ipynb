{
  "nbformat": 4,
  "nbformat_minor": 0,
  "metadata": {
    "colab": {
      "name": "Hamoye Stage 2 Quizz codes.ipynb",
      "provenance": [],
      "collapsed_sections": [],
      "authorship_tag": "ABX9TyPLm9KpTEQCzDlYyT4gw0+3",
      "include_colab_link": true
    },
    "kernelspec": {
      "name": "python3",
      "display_name": "Python 3"
    }
  },
  "cells": [
    {
      "cell_type": "markdown",
      "metadata": {
        "id": "view-in-github",
        "colab_type": "text"
      },
      "source": [
        "<a href=\"https://colab.research.google.com/github/Chidera02/chidera02/blob/master/Hamoye_Stage_2_Quizz_codes.ipynb\" target=\"_parent\"><img src=\"https://colab.research.google.com/assets/colab-badge.svg\" alt=\"Open In Colab\"/></a>"
      ]
    },
    {
      "cell_type": "code",
      "metadata": {
        "id": "Twj85ub66Pi1",
        "colab_type": "code",
        "colab": {}
      },
      "source": [
        "import seaborn as sns\n",
        "import pandas as pd\n",
        "import numpy as np\n",
        "from sklearn.model_selection import train_test_split"
      ],
      "execution_count": null,
      "outputs": []
    },
    {
      "cell_type": "code",
      "metadata": {
        "id": "uBJF1kTc6Vmw",
        "colab_type": "code",
        "colab": {}
      },
      "source": [
        "df= pd.read_csv('Desktop/energydata_complete.csv')"
      ],
      "execution_count": null,
      "outputs": []
    },
    {
      "cell_type": "code",
      "metadata": {
        "id": "vUFqyZsBPChv",
        "colab_type": "code",
        "colab": {}
      },
      "source": [
        "df.head()"
      ],
      "execution_count": null,
      "outputs": []
    },
    {
      "cell_type": "code",
      "metadata": {
        "id": "DJI26MzKPLzp",
        "colab_type": "code",
        "colab": {}
      },
      "source": [
        "df.describe()"
      ],
      "execution_count": null,
      "outputs": []
    },
    {
      "cell_type": "code",
      "metadata": {
        "id": "2gL97ypfu_of",
        "colab_type": "code",
        "colab": {}
      },
      "source": [
        "df = df.drop(columns=['date', 'lights'])"
      ],
      "execution_count": null,
      "outputs": []
    },
    {
      "cell_type": "code",
      "metadata": {
        "id": "DoSq9Q6xq-MT",
        "colab_type": "code",
        "colab": {}
      },
      "source": [
        "from sklearn.preprocessing import MinMaxScaler\n",
        "scaler = MinMaxScaler()\n",
        "normalised_df = pd.DataFrame(scaler.fit_transform(df), columns=df.columns)"
      ],
      "execution_count": null,
      "outputs": []
    },
    {
      "cell_type": "code",
      "metadata": {
        "id": "m_mbxYfePcB1",
        "colab_type": "code",
        "colab": {}
      },
      "source": [
        "X = normalised_df.drop[['T2']]\n",
        "y = normalised_df[['T6']]\n",
        "seed = 42\n",
        "test_data_size = 0.3\n",
        "X_train, X_test, y_train, y_test = train_test_split(X, y, test_size= test_data_size, random_state= seed)"
      ],
      "execution_count": null,
      "outputs": []
    },
    {
      "cell_type": "code",
      "metadata": {
        "id": "WeJwTUQUwsKz",
        "colab_type": "code",
        "colab": {}
      },
      "source": [
        "train_data=pd.concat([X_train, y_train], axis=1)\n",
        "test_data=pd.concat([X_test, y_test], axis=1)"
      ],
      "execution_count": null,
      "outputs": []
    },
    {
      "cell_type": "code",
      "metadata": {
        "id": "xs0-Dxsjwu2c",
        "colab_type": "code",
        "colab": {}
      },
      "source": [
        "train_data.head()"
      ],
      "execution_count": null,
      "outputs": []
    },
    {
      "cell_type": "code",
      "metadata": {
        "id": "bhh_2T6bw-Ow",
        "colab_type": "code",
        "colab": {}
      },
      "source": [
        "from sklearn.linear_model import LinearRegression\n",
        "linear_model = LinearRegression()\n",
        "linear_model.fit(X_train, y_train)"
      ],
      "execution_count": null,
      "outputs": []
    },
    {
      "cell_type": "code",
      "metadata": {
        "id": "g0_4LdBxxl2E",
        "colab_type": "code",
        "colab": {}
      },
      "source": [
        "predicted_values = linear_model.predict(X_test)"
      ],
      "execution_count": null,
      "outputs": []
    },
    {
      "cell_type": "code",
      "metadata": {
        "id": "xHJb4_Z-xwif",
        "colab_type": "code",
        "colab": {}
      },
      "source": [
        "from sklearn.metrics import mean_absolute_error\n",
        "mae = mean_absolute_error(y_test, predicted_values)\n",
        "round(mae, 2)"
      ],
      "execution_count": null,
      "outputs": []
    },
    {
      "cell_type": "code",
      "metadata": {
        "id": "ik431Einx5Jw",
        "colab_type": "code",
        "colab": {}
      },
      "source": [
        "rss = np.sum(np.square(y_test - predicted_values))\n",
        "round(rss, 2)"
      ],
      "execution_count": null,
      "outputs": []
    },
    {
      "cell_type": "code",
      "metadata": {
        "id": "EFGSrIyRyCKm",
        "colab_type": "code",
        "colab": {}
      },
      "source": [
        "from sklearn.metrics import mean_squared_error\n",
        "rmse = np.sqrt(mean_squared_error(y_test, predicted_values))\n",
        "round(rmse, 2)"
      ],
      "execution_count": null,
      "outputs": []
    },
    {
      "cell_type": "code",
      "metadata": {
        "id": "t-RawV4tyJk-",
        "colab_type": "code",
        "colab": {}
      },
      "source": [
        "from sklearn.metrics import r2_score\n",
        "r2_score = r2_score(y_test, predicted_values)\n",
        "round(r2_score, 2)"
      ],
      "execution_count": null,
      "outputs": []
    },
    {
      "cell_type": "code",
      "metadata": {
        "id": "6s54pCrhyQNf",
        "colab_type": "code",
        "colab": {}
      },
      "source": [
        "from sklearn.linear_model import Ridge\n",
        "ridge_reg = Ridge(alpha=0.4)\n",
        "ridge_reg.fit(X_train, y_train)"
      ],
      "execution_count": null,
      "outputs": []
    },
    {
      "cell_type": "code",
      "metadata": {
        "id": "5tB6Uqodym72",
        "colab_type": "code",
        "colab": {}
      },
      "source": [
        "predicted_ridge_values = ridge_reg.predict(X_test)"
      ],
      "execution_count": null,
      "outputs": []
    },
    {
      "cell_type": "code",
      "metadata": {
        "id": "RPn9Qs23y0YZ",
        "colab_type": "code",
        "colab": {}
      },
      "source": [
        "rmse_ridge = np.sqrt(mean_squared_error(y_test, predicted_ridge_values))\n",
        "round(rmse_ridge, 2)"
      ],
      "execution_count": null,
      "outputs": []
    },
    {
      "cell_type": "code",
      "metadata": {
        "id": "o5OfFJTNy7_s",
        "colab_type": "code",
        "colab": {}
      },
      "source": [
        "mae_ridge = mean_absolute_error(y_test, predicted_ridge_values)\n",
        "round(mae_ridge, 2)"
      ],
      "execution_count": null,
      "outputs": []
    },
    {
      "cell_type": "code",
      "metadata": {
        "id": "-l3IGFP2zGEB",
        "colab_type": "code",
        "colab": {}
      },
      "source": [
        "r2_score_ridge = r2_score(y_test, predicted_ridge_values)\n",
        "round(r2_score_ridge, 2)"
      ],
      "execution_count": null,
      "outputs": []
    },
    {
      "cell_type": "code",
      "metadata": {
        "id": "l3fKt2sozYzE",
        "colab_type": "code",
        "colab": {}
      },
      "source": [
        "from sklearn.linear_model import Lasso\n",
        "lasso_reg = Lasso(alpha=0.001)\n",
        "lasso_reg.fit(X_train, y_train)"
      ],
      "execution_count": null,
      "outputs": []
    },
    {
      "cell_type": "code",
      "metadata": {
        "id": "s-r_2AhXzgYV",
        "colab_type": "code",
        "colab": {}
      },
      "source": [
        "predicted_lasso_values = lasso_reg.predict(X_test)"
      ],
      "execution_count": null,
      "outputs": []
    },
    {
      "cell_type": "code",
      "metadata": {
        "id": "z62KZIHZztlr",
        "colab_type": "code",
        "colab": {}
      },
      "source": [
        "mae_lasso = mean_absolute_error(y_test, predicted_lasso_values)\n",
        "round(mae_lasso, 2)"
      ],
      "execution_count": null,
      "outputs": []
    },
    {
      "cell_type": "code",
      "metadata": {
        "id": "I_sTAZxez3dv",
        "colab_type": "code",
        "colab": {}
      },
      "source": [
        "r2_score_lasso = r2_score(y_test, predicted_lasso_values)\n",
        "round(r2_score_lasso, 2)"
      ],
      "execution_count": null,
      "outputs": []
    },
    {
      "cell_type": "code",
      "metadata": {
        "id": "TdR9wYro0Aqt",
        "colab_type": "code",
        "colab": {}
      },
      "source": [
        "features_df = normalised_df.drop('Appliances', axis=1)\n",
        "target_df = normalised_df['Appliances']\n",
        "\n",
        "seed = 42\n",
        "test_data_size = 0.3\n",
        "x_train, x_test, Y_train, Y_test = train_test_split(features_df, target_df, test_size= test_data_size, random_state= seed)\n",
        "\n",
        "linear_model.fit(x_train, Y_train)\n",
        "predicted_values2= linear_model.predict(x_test)\n",
        "\n",
        "ridge_reg.fit(x_train, Y_train)\n",
        "predicted_ridge_values2 = ridge_reg.predict(x_test)\n",
        "\n",
        "lasso_reg.fit(x_train, Y_train)\n",
        "predicted_lasso_values2 = lasso_reg.predict(x_test)\n",
        "\n",
        "def get_weights_df(model, feat, col_name):\n",
        "    weights=pd.Series(model.coef_, feat.columns).sort_values()\n",
        "    weights_df = pd.DataFrame(weights).reset_index()\n",
        "    weights_df.columns = ['Features', col_name]\n",
        "    weights_df[col_name].round(3)\n",
        "    return weights_df\n",
        "\n",
        "linear_model_weights = get_weights_df(linear_model, x_train, 'Linear_Model_Weight')\n",
        "ridge_weights_df = get_weights_df(ridge_reg, x_train, 'Ridge_Weight')\n",
        "lasso_weights_df = get_weights_df(lasso_reg, x_train, 'Lasso_weight')    "
      ],
      "execution_count": null,
      "outputs": []
    },
    {
      "cell_type": "code",
      "metadata": {
        "id": "ok2AZicJ2ZT1",
        "colab_type": "code",
        "colab": {}
      },
      "source": [
        "final_weights = pd.merge(linear_model_weights, ridge_weights_df, on='Features')\n",
        "pd.merge(final_weights, lasso_weights_df, on='Features')"
      ],
      "execution_count": null,
      "outputs": []
    }
  ]
}